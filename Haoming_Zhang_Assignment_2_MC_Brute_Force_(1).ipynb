{
  "nbformat": 4,
  "nbformat_minor": 0,
  "metadata": {
    "colab": {
      "provenance": [],
      "toc_visible": true,
      "include_colab_link": true
    },
    "kernelspec": {
      "name": "python3",
      "display_name": "Python 3"
    },
    "language_info": {
      "name": "python"
    }
  },
  "cells": [
    {
      "cell_type": "markdown",
      "metadata": {
        "id": "view-in-github",
        "colab_type": "text"
      },
      "source": [
        "<a href=\"https://colab.research.google.com/github/haoming150ty/Personal-Portfolio/blob/main/Haoming_Zhang_Assignment_2_MC_Brute_Force_(1).ipynb\" target=\"_parent\"><img src=\"https://colab.research.google.com/assets/colab-badge.svg\" alt=\"Open In Colab\"/></a>"
      ]
    },
    {
      "cell_type": "markdown",
      "metadata": {
        "id": "v_hFiWqd_C1T"
      },
      "source": [
        "# Individual Assignment M2: MC and Brute Force Method\n",
        "**OPIM 5641: Business Decision Modeling - University of Connecticut**\n",
        "\n",
        "-------------------------------------------------------------------------\n",
        "* Haoming Zhang\n",
        "* haz23017\n",
        "\n",
        "**Directions:**\n",
        "Adopted from Chapter 9, Problem 5 from Powell using the brute force method.\n",
        "\n",
        "**5. Planning Automobile Production.** The Auto Company\n",
        "of America (ACA) produces four types of cars: subcompact,\n",
        "compact, intermediate, and luxury. ACA also produces trucks\n",
        "and vans. Vendor capacities limit total production capacity to\n",
        "at most 1.2 million vehicles per year. Subcompacts and com-\n",
        "pacts are built together in a facility with a total annual capacity\n",
        "of 620,000 cars. Intermediate and luxury cars are produced in\n",
        "another facility with capacity of 400,000; and the truck/van\n",
        "facility has a capacity of 275,000. ACA’s marketing strategy\n",
        "requires that subcompacts and compacts must constitute at\n",
        "least half of the product mix for the four car types. The\n",
        "Corporate Average Fuel Economy (CAFE) standards in the\n",
        "Energy Policy and Conservation Act require an average fleet\n",
        "fuel economy of at least 27 mpg.\n",
        "\n",
        "Profit margins, market potential, and fuel efficiencies are\n",
        "summarized as follows:\n",
        "\n",
        "Type | Profit Margin (USD/vehicle) |Market Potential (sales in ‘000) | Fuel Economy (mpg)\n",
        "---| ---| ---| ---\n",
        "Subcompact| 50| 600| 40\n",
        "Compact| 225| 400| 34\n",
        "Intermediate| 250| 300| 15\n",
        "Luxury| 500| 225| 12\n",
        "Truck| 400| 325| 20\n",
        "Van| 200| 100| 25\n",
        "\n",
        "\n",
        "***To simplify the problem, use a step size of 25 in your `range()` functions!***\n",
        "\n",
        "1. What is the optimal profit for ACA?\n",
        "2. Re-run the problem 10,000 times using a Monte Carlo simulation (for loop) but instead the total number of vehicles being 1.2 million, use a random number between 1 million and 1.5 million. Then plot the distribution of the profit! If you could solve Question 1, this question should only take you 10 or 15 more minutes to code up and solve!\n",
        "\n",
        "You may work with your fellow classmates, but you need to complete the assignment on your own. I expect different headers and COMMENTS (comments are the key to showing that you really know your stuff - without comments, your code is useless to me).\n",
        "\n",
        "**Rubric:**\n",
        "* Full credit (100): Code along with the 'furniture/ brute force' example from class as your guide and add LOTS of original, useful comments. Nice headers and text cells included in the notebook.\n",
        "* Half credit (50): The problem has been coded up, but the solution is wrong (bad code) or the comments are mediocre or directly copied. Nice headers and text cells included in the notebook.\n",
        "* No credit (0): Bad code and bad comments, or good code and no comments (yes, we are that serious about comments in this class!) Poorly laid out notebook.\n",
        "\n"
      ]
    },
    {
      "cell_type": "code",
      "metadata": {
        "colab": {
          "base_uri": "https://localhost:8080/"
        },
        "id": "XmsQlfM03kgY",
        "outputId": "c64b8759-160e-443f-9a90-7c3de30c647f"
      },
      "source": [
        "# In this notebook, I will want to check the amount of time spent in the execution of each cell, so I need to install an additional package\n",
        "!pip install ipython-autotime\n",
        "%load_ext autotime"
      ],
      "execution_count": null,
      "outputs": [
        {
          "output_type": "stream",
          "name": "stdout",
          "text": [
            "Collecting ipython-autotime\n",
            "  Downloading ipython_autotime-0.3.2-py2.py3-none-any.whl.metadata (1.4 kB)\n",
            "Requirement already satisfied: ipython in /usr/local/lib/python3.10/dist-packages (from ipython-autotime) (7.34.0)\n",
            "Requirement already satisfied: setuptools>=18.5 in /usr/local/lib/python3.10/dist-packages (from ipython->ipython-autotime) (71.0.4)\n",
            "Collecting jedi>=0.16 (from ipython->ipython-autotime)\n",
            "  Using cached jedi-0.19.1-py2.py3-none-any.whl.metadata (22 kB)\n",
            "Requirement already satisfied: decorator in /usr/local/lib/python3.10/dist-packages (from ipython->ipython-autotime) (4.4.2)\n",
            "Requirement already satisfied: pickleshare in /usr/local/lib/python3.10/dist-packages (from ipython->ipython-autotime) (0.7.5)\n",
            "Requirement already satisfied: traitlets>=4.2 in /usr/local/lib/python3.10/dist-packages (from ipython->ipython-autotime) (5.7.1)\n",
            "Requirement already satisfied: prompt-toolkit!=3.0.0,!=3.0.1,<3.1.0,>=2.0.0 in /usr/local/lib/python3.10/dist-packages (from ipython->ipython-autotime) (3.0.47)\n",
            "Requirement already satisfied: pygments in /usr/local/lib/python3.10/dist-packages (from ipython->ipython-autotime) (2.18.0)\n",
            "Requirement already satisfied: backcall in /usr/local/lib/python3.10/dist-packages (from ipython->ipython-autotime) (0.2.0)\n",
            "Requirement already satisfied: matplotlib-inline in /usr/local/lib/python3.10/dist-packages (from ipython->ipython-autotime) (0.1.7)\n",
            "Requirement already satisfied: pexpect>4.3 in /usr/local/lib/python3.10/dist-packages (from ipython->ipython-autotime) (4.9.0)\n",
            "Requirement already satisfied: parso<0.9.0,>=0.8.3 in /usr/local/lib/python3.10/dist-packages (from jedi>=0.16->ipython->ipython-autotime) (0.8.4)\n",
            "Requirement already satisfied: ptyprocess>=0.5 in /usr/local/lib/python3.10/dist-packages (from pexpect>4.3->ipython->ipython-autotime) (0.7.0)\n",
            "Requirement already satisfied: wcwidth in /usr/local/lib/python3.10/dist-packages (from prompt-toolkit!=3.0.0,!=3.0.1,<3.1.0,>=2.0.0->ipython->ipython-autotime) (0.2.13)\n",
            "Downloading ipython_autotime-0.3.2-py2.py3-none-any.whl (7.0 kB)\n",
            "Using cached jedi-0.19.1-py2.py3-none-any.whl (1.6 MB)\n",
            "Installing collected packages: jedi, ipython-autotime\n",
            "Successfully installed ipython-autotime-0.3.2 jedi-0.19.1\n",
            "time: 478 µs (started: 2024-09-28 20:26:07 +00:00)\n"
          ]
        }
      ]
    },
    {
      "cell_type": "markdown",
      "source": [
        "# 📘 Question 1: Optimal profit and numbers of each type"
      ],
      "metadata": {
        "id": "SlYGTEfoWrDj"
      }
    },
    {
      "cell_type": "markdown",
      "source": [
        "## 🛩 Preparation codes"
      ],
      "metadata": {
        "id": "c8bNgMgZS74c"
      }
    },
    {
      "cell_type": "code",
      "metadata": {
        "id": "5B27I3Fl-_wS",
        "colab": {
          "base_uri": "https://localhost:8080/"
        },
        "outputId": "0cbd5d69-db3b-4889-8fc4-ede7ca422af1"
      },
      "source": [
        "import numpy as np\n",
        "import pandas as pd\n",
        "import matplotlib.pyplot as plt\n",
        "import seaborn as sns\n",
        "from pylab import *\n",
        "\n",
        "# s,c,i,l,t,v are decision variables such that\n",
        "\n",
        "# s <= 600(000)\n",
        "# c <= 400(000)\n",
        "# i <= 300(000)\n",
        "# l <= 225(000)\n",
        "# t <= 325(000)\n",
        "# v <= 100(000)\n",
        "# s + c + i + l + t + v <= 1200(000)\n",
        "# s + c <= 620(000)\n",
        "# i + l <= 400(000)\n",
        "# t + v <= 275(000)\n",
        "# s + c >= (s + c + i + l) / 2\n",
        "# (40s + 34c + 15i + 12l + 20t + 25v) / (s + c + i + l + t + v) >= 27\n",
        "# can be written as (40s + 34c + 15i + 12l + 20t + 25v) >= 27(s + c + i + l + t + v)\n",
        "\n",
        "## python codes below\n",
        "\n",
        "# 1. dictionaries\n",
        "products = [\"s\",\"c\",\"i\",\"l\",\"t\",\"v\"]\n",
        "profit = {\"s\":50,\"c\":225,\"i\":250,\"l\":500,\"t\":400,\"v\":200}\n",
        "market = {\"s\":600,\"c\":400,\"i\":300,\"l\":225,\"t\":325,\"v\":100}\n",
        "fuel = {\"s\":40,\"c\":34,\"i\":15,\"l\":12,\"t\":20,\"v\":25}\n",
        "\n",
        "\n",
        "# 2. initialize variables\n",
        "optimal_profit = 0 # intial value is 0. So is true for the following quantity of all types of cars\n",
        "best_s = 0\n",
        "best_c = 0\n",
        "best_i = 0\n",
        "best_l = 0\n",
        "best_t = 0\n",
        "best_v = 0\n"
      ],
      "execution_count": null,
      "outputs": [
        {
          "output_type": "stream",
          "name": "stdout",
          "text": [
            "time: 3.82 s (started: 2024-09-28 20:26:07 +00:00)\n"
          ]
        }
      ]
    },
    {
      "cell_type": "markdown",
      "source": [
        "## 🤖 The model itself"
      ],
      "metadata": {
        "id": "_gAicdbnWdVB"
      }
    },
    {
      "cell_type": "markdown",
      "metadata": {
        "id": "aGaYVUwnz17l"
      },
      "source": [
        "Now build your model!"
      ]
    },
    {
      "cell_type": "code",
      "source": [
        "for s in range(0,market['s']+1,25):  # 1st layer for-loop: subcompacts\n",
        "  for c in range(0,market['c']+1,25):  # 2nd layer: compacts\n",
        "    for i in range(0,market['i']+1,25):  # 3rd layer: intermediate\n",
        "      for l in range(0,market['l']+1,25):  # 4th layer: luxury\n",
        "        for t in range(0,market['t']+1,25):  # 5th layer: trucks\n",
        "          for v in range(0,market['v']+1,25):  # 6th layer: vans\n",
        "\n",
        "  # we want to make sure we skip the scenario where each and every number of car type is 0 (naturally their sum would also be 0)\n",
        "            if (s + c + i + l + t + v == 0):\n",
        "                 continue\n",
        "\n",
        "            # we add all of the constraints and rules in this if statement\n",
        "            if (s + c <= 620 and # subcompact and compact have the capacity of 620(000)\n",
        "                i + l <= 400 and # intermediate and luxury have the capacity of 400(000)\n",
        "                t + v <= 275 and # truck and van have the capacity of 275(000)\n",
        "                s + c + i + l + v + t <= 1200 and # all types combined have the capacity of 1200(000)\n",
        "                s + c >= 0.5*(s + c + i + l) and # subcompact and compact must constitute at least half of the (s,c,i,l) mix\n",
        "                 (fuel['s']*s + fuel['c']*c + fuel['i']*i + fuel['l']*l + fuel['t']*t + fuel['v']*v)\n",
        "                 / (s + c + i + l + t + v) >= 27 # fleet average fuel economy should be at least 27 mpg\n",
        "                ):\n",
        "\n",
        "              # we can find the optimal profit possible by keep updating the profit value until conditions above are no longer met\n",
        "              if profit['s']*s + profit['c']*c + profit['i']*i + profit['l']*l + profit['t']*t + profit['v']*v > optimal_profit:\n",
        "                 # the optimal price consists of individual type profit multiplying the number of each type of cars\n",
        "                optimal_profit = s * profit['s'] + c * profit['c'] + i * profit['i'] + l * profit['l'] + t * profit['t'] + v * profit['v']\n",
        "                best_s = s\n",
        "                best_c = c\n",
        "                best_i = i\n",
        "                best_l = l\n",
        "                best_t = t\n",
        "                best_v = v\n",
        "# printing the output with some additional explanatory language\n",
        "print('All done!')\n",
        "print('The optimal profit is:', optimal_profit)\n",
        "print('The optimal number for subcompacts is:', best_s)\n",
        "print('The optimal number for compacts is:', best_c)\n",
        "print('The optimal number for intermediate is:', best_i)\n",
        "print('The optimal number for luxury is:', best_l)\n",
        "print('The optimal number for trucks is:', best_t)\n",
        "print('The optimal number for vans is:', best_v)"
      ],
      "metadata": {
        "colab": {
          "base_uri": "https://localhost:8080/"
        },
        "id": "VHlIMhRTTIam",
        "outputId": "afe73fe8-3836-4254-a8e9-f6a90a024161"
      },
      "execution_count": null,
      "outputs": [
        {
          "output_type": "stream",
          "name": "stdout",
          "text": [
            "All done!\n",
            "The optimal profit is: 322500\n",
            "The optimal number for subcompacts is: 200\n",
            "The optimal number for compacts is: 400\n",
            "The optimal number for intermediate is: 0\n",
            "The optimal number for luxury is: 225\n",
            "The optimal number for trucks is: 275\n",
            "The optimal number for vans is: 0\n",
            "time: 17.8 s (started: 2024-09-28 20:26:10 +00:00)\n"
          ]
        }
      ]
    },
    {
      "cell_type": "markdown",
      "metadata": {
        "id": "KcQAQUEs3NIE"
      },
      "source": [
        "Took Dave 20 mins to code this whole thing up! How long did it take you?"
      ]
    },
    {
      "cell_type": "code",
      "metadata": {
        "id": "Nz48mE2u3vI2",
        "colab": {
          "base_uri": "https://localhost:8080/"
        },
        "outputId": "1e1415b6-b542-4df4-ae2a-685eefde068e"
      },
      "source": [
        "# looks like it took ~1 minutes to run when using the appropriate stepsize ..."
      ],
      "execution_count": null,
      "outputs": [
        {
          "output_type": "stream",
          "name": "stdout",
          "text": [
            "time: 342 µs (started: 2024-09-28 20:26:28 +00:00)\n"
          ]
        }
      ]
    },
    {
      "cell_type": "markdown",
      "source": [
        "# 📗 Question 2: Monte Carlo simulation with 10000 times"
      ],
      "metadata": {
        "id": "2JPk9Lg-lo2j"
      }
    },
    {
      "cell_type": "code",
      "source": [
        "resultProfit = []\n",
        "for i in range(10000):\n",
        "  optimal_profit = 0\n",
        "  best_s = 0\n",
        "  best_c = 0\n",
        "  best_l = 0\n",
        "  best_i = 0\n",
        "  best_t = 0\n",
        "  best_v = 0\n",
        "\n",
        "  for s in range(0,market['s']+1,75):  # 1st layer for-loop: subcompacts\n",
        "    for c in range(0,market['c']+1,75):  # 2nd layer: compacts\n",
        "      for i in range(0,market['i']+1,75):  # 3rd layer: intermediate\n",
        "        for l in range(0,market['l']+1,75):  # 4th layer: luxury\n",
        "          for t in range(0,market['t']+1,75):  # 5th layer: trucks\n",
        "            for v in range(0,market['v']+1,75):  # 6th layer: vans\n",
        "\n",
        "  # we want to make sure we skip the scenario where each and every number of car type is 0 (naturally their sum would also be 0)\n",
        "              if (s + c + i + l + t + v == 0):\n",
        "                 continue\n",
        "\n",
        "              if (s + c <= 620 and\n",
        "                  i + l <= 400 and\n",
        "                  t + v <= 275 and\n",
        "                  s + c + i + l + v + t <= np.random.randint(1000,1501) and\n",
        "                  s + c >= 0.5*(s + c + l + i) and\n",
        "                   (fuel['s']*s + fuel['c']*c + fuel['i']*i + fuel['l']*l + fuel['t']*t + fuel['v']*v)\n",
        "                   / (s + c + l + i + t + v) >= 27):\n",
        "              # Check if the current profit is greater than the best profit so far\n",
        "\n",
        "                if profit['s']*s + profit['c']*c + profit['i']*i + profit['l']*l + profit['t']*t + profit['v']*v > optimal_profit:\n",
        "\n",
        "                  optimal_profit = profit['s']*s + profit['c']*c + profit['i']*i + profit['l']*l + profit['t']*t + profit['v']*v\n",
        "                  best_s = s\n",
        "                  best_c = c\n",
        "                  best_i = i\n",
        "                  best_l = l\n",
        "                  best_t = t\n",
        "                  best_v = v\n",
        "\n",
        "  resultProfit.append(optimal_profit) # Fill the created blank list with profit values generated from each iteration\n",
        "# printing the output with some additional explanatory language\n",
        "print(resultProfit)\n",
        "print('All done!')\n",
        "print('The optimal profit is:', optimal_profit)\n",
        "print('The optimal number for subcompacts is:', best_s)\n",
        "print('The optimal number for compacts is:', best_c)\n",
        "print('The optimal number for intermediate is:', best_i)\n",
        "print('The optimal number for luxury is:', best_l)\n",
        "print('The optimal number for trucks is:', best_t)\n",
        "print('The optimal number for vans is:', best_v)"
      ],
      "metadata": {
        "id": "WOsc9LJVhAEX"
      },
      "execution_count": null,
      "outputs": []
    },
    {
      "cell_type": "markdown",
      "source": [
        "## 📉 Histogram"
      ],
      "metadata": {
        "id": "DFXWd-tujs6H"
      }
    },
    {
      "cell_type": "code",
      "source": [
        "resultDF = pd.DataFrame(resultProfit) # make my data becomes a data frame\n",
        "resultDF.hist() # plot the histgram\n",
        "plt.title('Distribution of Profits') # edit the title of the plot\n",
        "plt.xlabel('Profit ($)')  # edit the x asis label\n",
        "plt.ylabel('Frequency') # edit the y asis label\n",
        "plt.show() # show the pure polt!"
      ],
      "metadata": {
        "id": "qcLk6xGUjsCA"
      },
      "execution_count": null,
      "outputs": []
    },
    {
      "cell_type": "markdown",
      "metadata": {
        "id": "B5xsqd_z4rdt"
      },
      "source": [
        "Be careful with your indents and naming conventions and inequality signs... this is a TOUGH ASSIGNMENT and I am here to help you."
      ]
    }
  ]
}